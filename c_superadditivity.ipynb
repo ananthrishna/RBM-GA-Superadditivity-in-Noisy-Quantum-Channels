{
  "nbformat": 4,
  "nbformat_minor": 0,
  "metadata": {
    "colab": {
      "provenance": []
    },
    "kernelspec": {
      "name": "python3",
      "display_name": "Python 3"
    },
    "language_info": {
      "name": "python"
    }
  },
  "cells": [
    {
      "cell_type": "code",
      "execution_count": null,
      "metadata": {
        "colab": {
          "base_uri": "https://localhost:8080/",
          "height": 848
        },
        "id": "pVLcBuO432W6",
        "outputId": "5c07201a-15fc-45b5-895e-0513f45193cf"
      },
      "outputs": [
        {
          "output_type": "stream",
          "name": "stdout",
          "text": [
            "Looking in indexes: https://pypi.org/simple, https://us-python.pkg.dev/colab-wheels/public/simple/\n",
            "Collecting deap\n",
            "  Downloading deap-1.3.1-cp37-cp37m-manylinux_2_5_x86_64.manylinux1_x86_64.manylinux_2_12_x86_64.manylinux2010_x86_64.whl (160 kB)\n",
            "\u001b[K     |████████████████████████████████| 160 kB 25.8 MB/s \n",
            "\u001b[?25hRequirement already satisfied: numpy in /usr/local/lib/python3.7/dist-packages (from deap) (1.21.6)\n",
            "Installing collected packages: deap\n",
            "Successfully installed deap-1.3.1\n",
            "Looking in indexes: https://pypi.org/simple, https://us-python.pkg.dev/colab-wheels/public/simple/\n",
            "Collecting scoop\n",
            "  Downloading scoop-0.7.1.1.tar.gz (603 kB)\n",
            "\u001b[K     |████████████████████████████████| 603 kB 12.4 MB/s \n",
            "\u001b[?25hRequirement already satisfied: greenlet>=0.3.4 in /usr/local/lib/python3.7/dist-packages (from scoop) (1.1.2)\n",
            "Requirement already satisfied: pyzmq>=13.1.0 in /usr/local/lib/python3.7/dist-packages (from scoop) (23.2.0)\n",
            "Collecting argparse>=1.1\n",
            "  Downloading argparse-1.4.0-py2.py3-none-any.whl (23 kB)\n",
            "Building wheels for collected packages: scoop\n",
            "  Building wheel for scoop (setup.py) ... \u001b[?25l\u001b[?25hdone\n",
            "  Created wheel for scoop: filename=scoop-0.7.1.1-py3-none-any.whl size=72141 sha256=9390e1421d2b2f7202ed1bd871853bad42493a0408bd531947b6e05e5c67daa1\n",
            "  Stored in directory: /root/.cache/pip/wheels/24/19/e9/6e3e7c0323cc36bf1e4993d69b2db27d6b4e806ed57d411f44\n",
            "Successfully built scoop\n",
            "Installing collected packages: argparse, scoop\n",
            "Successfully installed argparse-1.4.0 scoop-0.7.1.1\n"
          ]
        },
        {
          "output_type": "display_data",
          "data": {
            "application/vnd.colab-display-data+json": {
              "pip_warning": {
                "packages": [
                  "argparse"
                ]
              }
            }
          },
          "metadata": {}
        },
        {
          "output_type": "stream",
          "name": "stdout",
          "text": [
            "Looking in indexes: https://pypi.org/simple, https://us-python.pkg.dev/colab-wheels/public/simple/\n",
            "Collecting multiprocessing\n",
            "  Downloading multiprocessing-2.6.2.1.tar.gz (108 kB)\n",
            "\u001b[K     |████████████████████████████████| 108 kB 19.7 MB/s \n",
            "\u001b[33mWARNING: Discarding https://files.pythonhosted.org/packages/b8/8a/38187040f36cec8f98968502992dca9b00cc5e88553e01884ba29cbe6aac/multiprocessing-2.6.2.1.tar.gz#sha256=ef3b81ad85d7de252e5491b1daac028e17f9741cbe3625032e6eaa4ad4c79900 (from https://pypi.org/simple/multiprocessing/). Command errored out with exit status 1: python setup.py egg_info Check the logs for full command output.\u001b[0m\n",
            "\u001b[?25h  Downloading multiprocessing-2.6.1.1.zip (129 kB)\n",
            "\u001b[K     |████████████████████████████████| 129 kB 35.1 MB/s \n",
            "\u001b[33mWARNING: Discarding https://files.pythonhosted.org/packages/98/7f/4967a994241802fcbb37204e424bd34fc4b239372dcea2f48cd2ffb0859f/multiprocessing-2.6.1.1.zip#sha256=c2f4b019ffcb72ea1a58c940f4500fba388d0a00d2b51bafc8fb11df5b85519c (from https://pypi.org/simple/multiprocessing/). Command errored out with exit status 1: python setup.py egg_info Check the logs for full command output.\u001b[0m\n",
            "\u001b[?25h  Downloading multiprocessing-2.6.1.1.tar.gz (106 kB)\n",
            "\u001b[K     |████████████████████████████████| 106 kB 16.8 MB/s \n",
            "\u001b[33mWARNING: Discarding https://files.pythonhosted.org/packages/68/08/b7c8b11f1265263e8bb525f0cd3c6747802bea087aac54469f0bef286524/multiprocessing-2.6.1.1.tar.gz#sha256=ad576359eda273ddbbbc0df9678df6ba653dee06dfe97839190826ec3f70c5ab (from https://pypi.org/simple/multiprocessing/). Command errored out with exit status 1: python setup.py egg_info Check the logs for full command output.\u001b[0m\n",
            "\u001b[?25h  Downloading multiprocessing-2.6.0.2.tar.gz (103 kB)\n",
            "\u001b[K     |████████████████████████████████| 103 kB 35.6 MB/s \n",
            "\u001b[33mWARNING: Discarding https://files.pythonhosted.org/packages/71/63/591f4ae9ed88570b04b39d1fbd523a2bd88a1a38685927ff25df9af1b379/multiprocessing-2.6.0.2.tar.gz#sha256=461a1998428ac4335cc4141223e362295e1032a689faf04acd3375eea8c0b6bd (from https://pypi.org/simple/multiprocessing/). Command errored out with exit status 1: python setup.py egg_info Check the logs for full command output.\u001b[0m\n",
            "\u001b[31mERROR: Could not find a version that satisfies the requirement multiprocessing (from versions: 2.6.0-0.1, 2.6.0.2, 2.6.1.1, 2.6.2.1)\u001b[0m\n",
            "\u001b[31mERROR: No matching distribution found for multiprocessing\u001b[0m\n",
            "\u001b[?25hLooking in indexes: https://pypi.org/simple, https://us-python.pkg.dev/colab-wheels/public/simple/\n",
            "Requirement already satisfied: joblib in /usr/local/lib/python3.7/dist-packages (1.1.0)\n"
          ]
        }
      ],
      "source": [
        "!pip install deap\n",
        "!pip install scoop\n",
        "!pip install multiprocessing\n",
        "!pip install joblib\n",
        "import multiprocessing\n",
        "import itertools as it\n",
        "import concurrent.futures\n",
        "import time\n",
        "import numpy as np\n",
        "import matplotlib.pyplot as plt\n",
        "import typing\n",
        "import tensorflow as tf\n",
        "import tensorflow.keras.backend as K\n",
        "import tensorflow_probability as tfp\n",
        "import multiprocessing\n",
        "import deap\n",
        "from deap import algorithms"
      ]
    },
    {
      "cell_type": "code",
      "execution_count": null,
      "metadata": {
        "id": "dSZjD5i2oIYx"
      },
      "outputs": [],
      "source": [
        "class DO:\n",
        "\n",
        "  def __init__(self,dim: int,DO_init):\n",
        "    self.dim=dim\n",
        "    self.M=DO_init\n",
        "    #print(\"The input DO is: \\n\",self.M.numpy())\n",
        "    #print(self.test())\n",
        "\n",
        "  def eig(self,vect=False):\n",
        "    ''' returns eigen values and eigen vectors of the DO.'''\n",
        "\n",
        "    #print('**********************')\n",
        "    #print('Eig-Vals using numpy:')\n",
        "    #eval_,evec_=np.linalg.eigh(self.M.numpy())\n",
        "    #print(eval_)\n",
        "\n",
        "    eval,evec=tf.linalg.eigh(self.M)\n",
        "\n",
        "    #print('Eig-Vals using tf:')\n",
        "    #print(eval)\n",
        "    #print('**********************')\n",
        "\n",
        "    if vect:\n",
        "      return (eval,evec)\n",
        "    else:\n",
        "      return eval\n",
        "\n",
        "\n",
        "  def test(self):\n",
        "    ''' Checks if the DO is a valid Density operator.'''\n",
        "    TOL=1e-6\n",
        "    if np.allclose(np.trace(self.M.numpy()),1) and np.trace(np.linalg.matrix_power(self.M.numpy(),2))<=1+TOL and \\\n",
        "       np.all(self.eig().numpy()>=0-TOL) and np.array_equal(np.shape(self.M.numpy()),np.array([self.dim,self.dim])):\n",
        "       None\n",
        "    else:\n",
        "\n",
        "     if ~np.allclose(np.trace(self.M.numpy()),1):\n",
        "       print('Wrong Trace:', end=' '); print(np.trace(self.M.numpy()))\n",
        "\n",
        "     if ~(np.trace(np.linalg.matrix_power(self.M.numpy(),2))<=1+TOL):\n",
        "       print('Wrong Squared Trace:',end=' '); print(np.trace(np.linalg.matrix_power(self.M.numpy(),2)))\n",
        "\n",
        "     if ~(np.all(self.eig().numpy()>=0-TOL)):\n",
        "       print('Not positive:');print(self.eig().numpy())\n",
        "\n",
        "     if ~(np.array_equal(np.shape(self.M.numpy()),np.array([self.dim,self.dim]))):\n",
        "       print('Size Problem')\n",
        "       print('DO dim:',end=' ');print(np.shape(self.M.numpy()))\n",
        "       print('Given dim:',end= ' ');print(self.dim)\n",
        "\n",
        "     raise Exception(\"Invalid Density Operator\")\n",
        "\n",
        "  def get_M(self):\n",
        "    ''' returns numpy array '''\n",
        "    return self.M\n",
        "\n",
        "  def get_dim(self)-> int:\n",
        "    return self.dim\n",
        "\n",
        "  def S(self)->float:\n",
        "    ''' Finds the von-Neumann entropy of a quantum state. '''\n",
        "\n",
        "    #print('Calculating Entropy')\n",
        "\n",
        "    eig=tf.cast(self.eig(),tf.float64)\n",
        "    ent=tf.keras.losses.CategoricalCrossentropy()\n",
        "\n",
        "    s=ent(eig,eig)/tf.cast(tf.math.log(2.),dtype=tf.float64)\n",
        "\n",
        "    #leig=tf.where(eig**2<1e-8,tf.ones(tf.shape(eig)),eig)\n",
        "    #s=-tf.math.reduce_sum(eig* tf.math.log(leig))/tf.math.log(2.)\n",
        "\n",
        "    return s\n",
        "\n",
        ""
      ]
    },
    {
      "cell_type": "markdown",
      "metadata": {
        "id": "V9UJU0UACDfw"
      },
      "source": [
        "Quantum Channel Class"
      ]
    },
    {
      "cell_type": "code",
      "execution_count": null,
      "metadata": {
        "id": "YMtTOEqICHI5"
      },
      "outputs": [],
      "source": [
        "class Q_Channel():\n",
        "\n",
        "  def __init__(self,p : typing.Union[np.ndarray,list,tuple],Ak : typing.Callable[...,typing.List[np.ndarray]]):\n",
        "    '''\n",
        "        p contains the parameters in the channel\n",
        "        Ak are functions that take in p as arguments and return a List of\n",
        "        Kraus operators\n",
        "    '''\n",
        "\n",
        "    self.p=np.array(p)\n",
        "    self.Ak=Ak\n",
        "\n",
        "    #self.test()\n",
        "\n",
        "  def C(self,r: DO)-> DO :\n",
        "    ''' perform the action of the quantum operation on the quantm state'''\n",
        "    A_=self.Ak(self.p)\n",
        "\n",
        "    M=tf.zeros([r.get_dim(),r.get_dim()],dtype=tf.complex128)\n",
        "\n",
        "    for A_k in A_:\n",
        "      M+=A_k@ (r.get_M()@ tf.math.conj(tf.transpose(A_k)))\n",
        "\n",
        "    R=DO(r.get_dim(),M)\n",
        "\n",
        "    return R\n",
        "\n",
        "  def test(self):\n",
        "    ''' Checks if the Kraus operators are valid, for the given set of\n",
        "    parameters'''\n",
        "\n",
        "    A_=self.Ak(self.p)\n",
        "\n",
        "    M=tf.zeros(tf.shape(A_[-1]),dtype=tf.complex128)\n",
        "    for A_k in A_:\n",
        "      #M+=A_k@ (r.get_M()@ tf.math.conj(tf.transpose(A_k)))\n",
        "      M+=tf.transpose(A_k,conjugate=True)@A_k\n",
        "\n",
        "    if np.allclose(M.numpy(),np.identity(np.size(M,axis=-1))):\n",
        "      #print(\"Kraus operators sums to 1\")\n",
        "      None\n",
        "    else:\n",
        "      print(M.numpy())\n",
        "      raise Exception(\"Invalid set of Kraus operators\")\n",
        "\n",
        "  def disp_Kraus(self):\n",
        "    ''' Prints the Kraus operators of the quantum channel'''\n",
        "    print(' ');print(' ')\n",
        "    print('=========================')\n",
        "    print('   Channel Details')\n",
        "    print('   ***************')\n",
        "    print('')\n",
        "    print(\"parameter list:\",end=' ')\n",
        "    print(self.p)\n",
        "    A_=self.Ak(self.p)\n",
        "\n",
        "    print('Kraus operators:')\n",
        "    print('----------------------')\n",
        "    for A_k in A_:\n",
        "      print(A_k.numpy())\n",
        "      print('----------------------')\n",
        "    print('=========================')\n",
        "\n",
        "  def return_kraus(self):\n",
        "    return self.Ak(self.p)"
      ]
    },
    {
      "cell_type": "markdown",
      "metadata": {
        "id": "QoeAM60zCQlZ"
      },
      "source": [
        "Defining Quantum Channels"
      ]
    },
    {
      "cell_type": "code",
      "execution_count": null,
      "metadata": {
        "id": "zZEzGOzDCeVN"
      },
      "outputs": [],
      "source": [
        "def PauliChannel_Kraus(p: float)-> typing.List[np.ndarray]:\n",
        "  A1=tf.convert_to_tensor(np.sqrt(1-p[0]-p[1]-p[2])*np.identity(2),dtype=tf.complex128)\n",
        "  A2=tf.convert_to_tensor(np.sqrt(p[0])*np.array([[0,1],[1,0]]),dtype=tf.complex128)\n",
        "  A3=tf.convert_to_tensor(np.sqrt(p[1])*np.array([[0,-1j],[1j,0]]),dtype=tf.complex128)\n",
        "  A4=tf.convert_to_tensor(np.sqrt(p[2])*np.array([[1,0],[0,-1]]),dtype=tf.complex128)\n",
        "\n",
        "  return [A1,A2,A3,A4]\n"
      ]
    },
    {
      "cell_type": "markdown",
      "metadata": {
        "id": "-qUhL0D_RDQR"
      },
      "source": [
        "De Phase Channel, Pauli channel is already defined"
      ]
    },
    {
      "cell_type": "code",
      "execution_count": null,
      "metadata": {
        "id": "IgRbVT0FRIRN"
      },
      "outputs": [],
      "source": [
        "def Q_DePhaseKraus(p: float):\n",
        "  A1=tf.cast(tf.math.sqrt(1-p),tf.complex128)*tf.eye(2,dtype=tf.complex128)\n",
        "  A2=tf.cast(tf.math.sqrt(p),tf.complex128)*tf.constant([[1.,0.],[0.,-1.]],dtype=tf.complex128)\n",
        "\n",
        "  return [A1,A2]\n"
      ]
    },
    {
      "cell_type": "markdown",
      "metadata": {
        "id": "O_kqQioFS_bW"
      },
      "source": [
        "De Polarising Channel"
      ]
    },
    {
      "cell_type": "code",
      "execution_count": null,
      "metadata": {
        "id": "gAGjWSW7TF--"
      },
      "outputs": [],
      "source": [
        "def Q_ErKraus(p: float)-> typing.List[np.ndarray]:\n",
        "  A1=tf.convert_to_tensor(np.sqrt(1-3*p/4)*np.identity(2),dtype=tf.complex128)\n",
        "  A2=tf.convert_to_tensor(np.sqrt(p)*np.array([[0,1],[1,0]])/2,dtype=tf.complex128)\n",
        "  A3=tf.convert_to_tensor(np.sqrt(p)*np.array([[0,-1j],[1j,0]])/2,dtype=tf.complex128)\n",
        "  A4=tf.convert_to_tensor(np.sqrt(p)*np.array([[1,0],[0,-1]])/2,dtype=tf.complex128)\n",
        "\n",
        "  return [A1,A2,A3,A4]\n"
      ]
    },
    {
      "cell_type": "markdown",
      "metadata": {
        "id": "IOAfpW_-C4rF"
      },
      "source": [
        "Finding Partial Trace"
      ]
    },
    {
      "cell_type": "code",
      "execution_count": null,
      "metadata": {
        "id": "dJoBDFcOC7jt"
      },
      "outputs": [],
      "source": [
        "def bi_PTr(AB : DO, A_dim : int, B_dim : int, TraceB=True) -> DO:\n",
        "\n",
        "\n",
        "  if TraceB:\n",
        "    M=tf.reshape(AB.M,[A_dim,B_dim,A_dim,B_dim])\n",
        "    M_=tf.transpose(M,perm=[0,2,1,3])\n",
        "    #sysM= np.trace(M,axis1=1,axis2=3)\n",
        "    sysM= tf.linalg.trace(M_)\n",
        "    PT=DO(A_dim,sysM)\n",
        "\n",
        "  else:\n",
        "    M=tf.reshape(AB.M,[A_dim,B_dim,A_dim,B_dim])\n",
        "    M_=tf.transpose(M,perm=[1,3,0,2])\n",
        "    #sysM= np.trace(M,axis1=0,axis2=2)\n",
        "    sysM= tf.linalg.trace(M_)\n",
        "    PT=DO(B_dim,sysM)\n",
        "\n",
        "  return PT"
      ]
    },
    {
      "cell_type": "markdown",
      "metadata": {
        "id": "4qM8Y_ZBDCG0"
      },
      "source": [
        "Finding Coherent Information, but not to be used in relation to optimization"
      ]
    },
    {
      "cell_type": "code",
      "execution_count": null,
      "metadata": {
        "id": "sJd64UMgDKeF"
      },
      "outputs": [],
      "source": [
        "def I(qr : DO,sys_dim : int, env_dim : int, N : Q_Channel, QR : bool=True):\n",
        "  ''' qr is the initial purified state. It is also assumed that\n",
        "      kronecker product is taken as kron(Q,R). If this is not true,\n",
        "      pass QR=False\n",
        "\n",
        "      Also note that N only acts on system space.'''\n",
        "\n",
        "  # Create the reduced DO.\n",
        "\n",
        "  if QR:\n",
        "    q=bi_PTr(qr,sys_dim,env_dim)   # Redundant; Is it? qr always changes right?\n",
        "  else:\n",
        "    q=bi_PTr(qr,env_dim,sys_dim,TraceB=False)\n",
        "\n",
        "  # Create the I \\outer N. This is also depends on QR value\n",
        "\n",
        "  #RI=np.identity(env_dim)\n",
        "  RI=tf.eye(env_dim)\n",
        "\n",
        "  A=N.return_kraus()\n",
        "\n",
        "  if QR:\n",
        "    AI=[np.kron(A_k,RI) for A_k in A]\n",
        "\n",
        "  else:\n",
        "    AI=[np.kron(RI,A_k) for A_k in A]\n",
        "\n",
        "  IN=Q_Channel(N.p,lambda p: AI)  # Redundant\n",
        "\n",
        "  QR_out=IN.C(qr)\n",
        "  Q_out=N.C(q)\n",
        "\n",
        "  CI=Q_out.S()-QR_out.S()\n",
        "\n",
        "  return (CI,IN,QR_out,Q_out)"
      ]
    },
    {
      "cell_type": "markdown",
      "metadata": {
        "id": "wyShn39IQnY1"
      },
      "source": [
        "Coherent information part but in section to use for the optimization part"
      ]
    },
    {
      "cell_type": "markdown",
      "metadata": {
        "id": "rsmHTka1Qyit"
      },
      "source": [
        "RDO Generator"
      ]
    },
    {
      "cell_type": "code",
      "execution_count": null,
      "metadata": {
        "id": "nwT1Lf7hQuxX"
      },
      "outputs": [],
      "source": [
        "def RDO_Gen(qr : DO,sys_dim : int, env_dim : int, QR : bool=True):\n",
        "  if QR:\n",
        "    q=bi_PTr(qr,sys_dim,env_dim)\n",
        "  else:\n",
        "    q=bi_PTr(qr,env_dim,sys_dim,TraceB=False)\n",
        "\n",
        "  return q"
      ]
    },
    {
      "cell_type": "markdown",
      "metadata": {
        "id": "Yi8OyXrxQ5tj"
      },
      "source": [
        "QR Channel Builder"
      ]
    },
    {
      "cell_type": "code",
      "execution_count": null,
      "metadata": {
        "id": "71oPRzBSQ9G4"
      },
      "outputs": [],
      "source": [
        "def QR_Channel_Builder(N : Q_Channel,env_dim,QR : bool=True):\n",
        "\n",
        "  RI=np.identity(env_dim)\n",
        "  A=N.return_kraus()\n",
        "  if QR:\n",
        "    AI=[ tf.convert_to_tensor(np.kron(A_k.numpy(),RI),dtype=tf.complex128) for A_k in A]\n",
        "\n",
        "  else:\n",
        "    AI=[ tf.convert_to_tensor(np.kron(RI,A_k.numpy()),dtype=tf.complex128) for A_k in A]\n",
        "\n",
        "  IN=Q_Channel(N.p,lambda p: AI)\n",
        "\n",
        "  return IN"
      ]
    },
    {
      "cell_type": "markdown",
      "metadata": {
        "id": "yZRceU8sQ_-N"
      },
      "source": [
        "N-Times Channel Builder"
      ]
    },
    {
      "cell_type": "code",
      "execution_count": null,
      "metadata": {
        "id": "_ryvX7bhRBPc"
      },
      "outputs": [],
      "source": [
        "def NT_Channel_Builder(N: Q_Channel,n : int):\n",
        "  ''' Builds a quantum channel corresponding to N channel uses.'''\n",
        "\n",
        "  A=N.return_kraus()\n",
        "\n",
        "  NA=A\n",
        "\n",
        "  for _ in range(n-1):\n",
        "    NA_temp=[]\n",
        "\n",
        "    for NA_k in NA:\n",
        "      for A_k in A:\n",
        "\n",
        "        NA_temp.append(tf.convert_to_tensor(\\\n",
        "           np.kron(NA_k.numpy(),A_k.numpy()),dtype=tf.complex128))\n",
        "\n",
        "    NA=NA_temp\n",
        "\n",
        "  NA_C=Q_Channel(N.p,lambda p: NA)\n",
        "\n",
        "  return NA_C\n",
        "\n",
        ""
      ]
    },
    {
      "cell_type": "markdown",
      "metadata": {
        "id": "1eNHCSr7ttuq"
      },
      "source": [
        "NN States"
      ]
    },
    {
      "cell_type": "markdown",
      "metadata": {
        "id": "M5VHLnnZtu_z"
      },
      "source": [
        "NN State builder"
      ]
    },
    {
      "cell_type": "code",
      "execution_count": null,
      "metadata": {
        "id": "9Kfj5J4Xtw6C"
      },
      "outputs": [],
      "source": [
        "def NN_builder(qubits,width,hiddenLayers,Activation,debug=None):  # how are the weights incorporated\n",
        "  '''\n",
        "      debug in ['Summary']\n",
        "  '''\n",
        "  NN_State=tf.keras.Sequential()\n",
        "\n",
        "  def a_cos(x):\n",
        "    return K.cos(x)\n",
        "\n",
        "  NN_State.add(tf.keras.layers.InputLayer(input_shape=(qubits,)))\n",
        "  NN_State.add(tf.keras.layers.Dense(width,activation=a_cos)) # As in the paper\n",
        "\n",
        "  for _ in range(1,hiddenLayers):\n",
        "    NN_State.add(tf.keras.layers.Dense(width,activation=Activation))\n",
        "  NN_State.add(tf.keras.layers.Dense(2,activation='tanh'))\n",
        "\n",
        "  if debug in ['Summary']:\n",
        "   NN_State.summary()\n",
        "\n",
        "  return NN_State"
      ]
    },
    {
      "cell_type": "code",
      "execution_count": null,
      "metadata": {
        "id": "r6sded-mSFB9"
      },
      "outputs": [],
      "source": [
        "def return_INPUT(qubits):\n",
        "  In=[]\n",
        "  for _ in range(2**qubits):\n",
        "    #input=tf.Variable(np.expand_dims(np.array(list(np.binary_repr(_).zfill(qubits))).astype(np.float64),axis=0))\n",
        "    input=tf.Variable(np.array(list(np.binary_repr(_).zfill(qubits))).astype(np.float64))\n",
        "    #print(input)\n",
        "    input=input-0.5*np.ones(np.shape(input))\n",
        "    In.append(input)\n",
        "  In=tf.convert_to_tensor(In)\n",
        "\n",
        "  return In"
      ]
    },
    {
      "cell_type": "markdown",
      "metadata": {
        "id": "Mw8HRImIammo"
      },
      "source": [
        "NN_2_DO"
      ]
    },
    {
      "cell_type": "code",
      "execution_count": null,
      "metadata": {
        "id": "c9Va8vS_apqH"
      },
      "outputs": [],
      "source": [
        "def NN_DO(NN,qubits,Input,debug=None):\n",
        "\n",
        "  '''\n",
        "        debug in ['Out','All','Wf','Wf-Do','Do']\n",
        "  '''\n",
        "  #In=[]\n",
        "\n",
        "  #for _ in range(2**qubits):\n",
        "    #input=tf.Variable(np.expand_dims(np.array(list(np.binary_repr(_).zfill(qubits))).astype(np.float64),axis=0))\n",
        "    #print(input)\n",
        "    #input=input-0.5*np.ones(np.shape(input))\n",
        "    #In.append(input)\n",
        "\n",
        "\n",
        "  #In=tf.convert_to_tensor(In)\n",
        "\n",
        "  Out=NN(Input)\n",
        "\n",
        "\n",
        "  if debug in ['Out','All']:\n",
        "    print('**********************')\n",
        "    print('Output:')\n",
        "    print(Out.numpy())\n",
        "    print('**********************')\n",
        "\n",
        "  wf=tf.zeros(shape=(2**qubits,1),dtype=tf.complex128)\n",
        "\n",
        "  wf=tf.cast(Out[:,0],tf.complex128)+tf.cast(tf.complex(0.,1.),tf.complex128)*tf.cast(Out[:,1],tf.complex128)\n",
        "\n",
        "  wf=tf.reshape(wf,shape=(-1,1))\n",
        "\n",
        "\n",
        "  def norm(res):\n",
        "   return tf.math.sqrt(tf.reduce_sum(res*tf.math.conj(res)))\n",
        "\n",
        "  wf=wf/norm(wf)\n",
        "\n",
        "\n",
        "  if debug in ['Wf','All','Do-Wf']:\n",
        "   print('**********************')\n",
        "   print('Wavefunction:')\n",
        "   print(wf.numpy())\n",
        "   print('**********************')\n",
        "\n",
        "  do=wf@tf.transpose(wf,conjugate=True)\n",
        "\n",
        "\n",
        "\n",
        "  if debug in ['Do','Do-Wf','All']:\n",
        "    print('**********************')\n",
        "    print('DO:')\n",
        "    print(do.numpy())\n",
        "    print('**********************')\n",
        "\n",
        "  NN_State=DO(2**qubits,do)\n",
        "\n",
        "  #CI,InN,QR_out,Q_out= I(NN_State,2,2,Q_DePhase_Ch)\n",
        "  #print('CI:',end=' ');print(CI)\n",
        "\n",
        "  return NN_State"
      ]
    },
    {
      "cell_type": "markdown",
      "metadata": {
        "id": "XXuZmtvqepOJ"
      },
      "source": [
        "DEAP-EA"
      ]
    },
    {
      "cell_type": "code",
      "execution_count": null,
      "metadata": {
        "colab": {
          "base_uri": "https://localhost:8080/",
          "height": 35
        },
        "id": "zWWcmSwFep2T",
        "outputId": "3f70881b-567b-4b9b-89f4-d4ca661d30fa"
      },
      "outputs": [
        {
          "output_type": "execute_result",
          "data": {
            "text/plain": [
              "'\\ntoolbox.register(\"individual\",gen_Individual,creator.Individual)\\ntoolbox.register(\"population\",tools.initRepeat,list,toolbox.individual)\\n'"
            ],
            "application/vnd.google.colaboratory.intrinsic+json": {
              "type": "string"
            }
          },
          "metadata": {},
          "execution_count": 15
        }
      ],
      "source": [
        "from deap import creator\n",
        "from deap import tools\n",
        "from deap import base\n",
        "from scoop import futures\n",
        "# Create things\n",
        "creator.create(\"FitnessMin\",base.Fitness,weights=(-1.0,))\n",
        "creator.create(\"Individual\",list,fitness=creator.FitnessMin)\n",
        "\n",
        "#ToolBox\n",
        "toolbox=base.Toolbox()\n",
        "\n",
        "def gen_Individual(ind_class,SHAPES):\n",
        "\n",
        "  W=[]\n",
        "  for shape in SHAPES:\n",
        "    weight=np.random.uniform(low=-1.,high=1.,size=shape)\n",
        "    W.append(weight)\n",
        "\n",
        "  ind=ind_class(W)\n",
        "\n",
        "  return ind\n",
        "\n",
        "'''\n",
        "toolbox.register(\"individual\",gen_Individual,creator.Individual)\n",
        "toolbox.register(\"population\",tools.initRepeat,list,toolbox.individual)\n",
        "'''\n"
      ]
    },
    {
      "cell_type": "code",
      "execution_count": null,
      "metadata": {
        "id": "znLA4EBz91Hp"
      },
      "outputs": [],
      "source": [
        "class FitnessClass():\n",
        "  def __init__(self,NN_State,qubits,N,IN,sys_qubits,env_qubits,reg,QR=True):\n",
        "    self.NN_State=NN_State\n",
        "    self.qubits=qubits\n",
        "    self.N=N\n",
        "    self.IN=IN\n",
        "    self.sys_qubits=sys_qubits\n",
        "    self.env_qubits=env_qubits\n",
        "    self.reg=reg\n",
        "    self.QR=QR\n",
        "\n",
        "  def Fitness(self,W):\n",
        "\n",
        "    In=return_INPUT(self.qubits)\n",
        "\n",
        "    self.NN_State.set_weights(W)\n",
        "\n",
        "    sys_dim=2**self.sys_qubits\n",
        "    env_dim=2**self.env_qubits\n",
        "\n",
        "    DOO=NN_DO(self.NN_State,self.qubits,In,debug=None)\n",
        "    rDO=RDO_Gen(DOO,sys_dim,env_dim,self.QR)\n",
        "\n",
        "\n",
        "    QR_out=self.IN.C(DOO)\n",
        "    Q_out=self.N.C(rDO)\n",
        "\n",
        "    CI=Q_out.S()-QR_out.S()\n",
        "\n",
        "    loss= -CI + self.reg(rDO)\n",
        "    return (loss.numpy(),)"
      ]
    },
    {
      "cell_type": "code",
      "execution_count": null,
      "metadata": {
        "id": "KV-BjovU94OI"
      },
      "outputs": [],
      "source": [
        "def gen_fitness(NN_State,qubits,N,IN,sys_qubits,env_qubits,QR,reg):\n",
        "\n",
        "  In=[]\n",
        "  In=return_INPUT(qubits)\n",
        "  In=tf.convert_to_tensor(In)\n",
        "\n",
        "  def fitness(W):\n",
        "\n",
        "    if type(W[0])==type((1,2)):\n",
        "      print(W[0])\n",
        "    NN_State.set_weights(W)\n",
        "\n",
        "    sys_dim=2**sys_qubits\n",
        "    env_dim=2**env_qubits\n",
        "\n",
        "    DOO=NN_DO(NN_State,qubits,In,debug=None)\n",
        "    rDO=RDO_Gen(DOO,sys_dim,env_dim,QR)\n",
        "\n",
        "\n",
        "    QR_out=IN.C(DOO)\n",
        "    Q_out=N.C(rDO)\n",
        "\n",
        "    CI=Q_out.S()-QR_out.S()\n",
        "\n",
        "    loss= -CI + reg(rDO)\n",
        "    return (loss.numpy(),)\n",
        "\n",
        "  return fitness"
      ]
    },
    {
      "cell_type": "markdown",
      "metadata": {
        "id": "Alfx9ZrQ-IZs"
      },
      "source": [
        "Crossover function"
      ]
    },
    {
      "cell_type": "code",
      "execution_count": null,
      "metadata": {
        "id": "tUF4tK3R-KqF"
      },
      "outputs": [],
      "source": [
        "def cx2point(ind1,ind2):\n",
        "  assert len(ind1)==len(ind2), \"Assert error: cx2point: 1\"\n",
        "\n",
        "  IND1=[];IND2=[]\n",
        "\n",
        "  for _ in range(len(ind1)):\n",
        "    i1=np.copy(ind1[_])\n",
        "    i2=np.copy(ind2[_])\n",
        "\n",
        "    if ind1[_].ndim==2:\n",
        "      dim=np.shape(ind1[_])\n",
        "\n",
        "      r1=np.random.randint(0,dim[0])\n",
        "      r2=np.random.randint(r1,dim[0])\n",
        "      r3=np.random.randint(0,dim[1])\n",
        "      r4=np.random.randint(r3,dim[1])\n",
        "\n",
        "      i1[r1:r2,r3:r4]=np.copy(ind2[_][r1:r2,r3:r4])\n",
        "      i2[r1:r2,r3:r4]=np.copy(ind1[_][r1:r2,r3:r4])\n",
        "\n",
        "\n",
        "    else:\n",
        "      dim=np.shape(ind1[_])\n",
        "      r1=np.random.randint(0,dim[0])\n",
        "      r2=np.random.randint(r1,dim[0])\n",
        "\n",
        "      i1[r1:r2]=np.copy(ind2[_][r1:r2])\n",
        "      i2[r1:r2]=np.copy(ind1[_][r1:r2])\n",
        "\n",
        "    IND1.append(i1)\n",
        "    IND2.append(i2)\n",
        "\n",
        "  IND1=creator.Individual(IND1)\n",
        "  IND2=creator.Individual(IND2)\n",
        "  return IND1,IND2"
      ]
    },
    {
      "cell_type": "markdown",
      "metadata": {
        "id": "aTxb9kqq-RYb"
      },
      "source": [
        "Mutation"
      ]
    },
    {
      "cell_type": "code",
      "execution_count": null,
      "metadata": {
        "id": "Krt2vXl1-Sca"
      },
      "outputs": [],
      "source": [
        "def mutGaussian(ind,mu, sigma, indpb):\n",
        "\n",
        "  IND=[]\n",
        "\n",
        "  for _ in range(len(ind)):\n",
        "    i1=np.copy(ind[_])\n",
        "    i1=tools.mutGaussian(i1,mu,sigma,indpb)[0]\n",
        "\n",
        "    IND.append(i1)\n",
        "  IND=creator.Individual(IND)\n",
        "  return IND,"
      ]
    },
    {
      "cell_type": "markdown",
      "metadata": {
        "id": "2QHEGCar-WWU"
      },
      "source": [
        "Get shapes"
      ]
    },
    {
      "cell_type": "code",
      "execution_count": null,
      "metadata": {
        "id": "mriknJ2E-Vut"
      },
      "outputs": [],
      "source": [
        "def get_Shapes(NN):\n",
        "  SHAPES=[]\n",
        "  weights=NN.get_weights()\n",
        "\n",
        "  for _ in weights:\n",
        "    SHAPES.append(np.shape(_))\n",
        "\n",
        "  return SHAPES"
      ]
    },
    {
      "cell_type": "markdown",
      "metadata": {
        "id": "6dDjlPjenbCQ"
      },
      "source": [
        "Regularisation"
      ]
    },
    {
      "cell_type": "code",
      "execution_count": null,
      "metadata": {
        "id": "tROgbTP2nbCR"
      },
      "outputs": [],
      "source": [
        "Reg=100\n",
        "\n",
        "def reg(rDO):\n",
        "  # Should be large wen rDO is pure\n",
        "\n",
        "  # When pure, result= Reg\n",
        "  # When fully mixed,\n",
        "\n",
        "  trace=tf.cast(tf.linalg.trace(rDO.M @ rDO.M),tf.float64)\n",
        "\n",
        "  return 0#(Reg*(trace-0.5)**2)"
      ]
    },
    {
      "cell_type": "code",
      "source": [
        "from scoop import futures\n",
        "def Channel_action_single(channel,param):\n",
        "    ######################### Problem Parameters ###################################\n",
        "    qubits=2\n",
        "    env_qubits=1\n",
        "    sys_qubits=1\n",
        "\n",
        "    dim=2**qubits\n",
        "    sys_dim=2**sys_qubits\n",
        "    env_dim=2**env_qubits\n",
        "\n",
        "\n",
        "    Channel=Q_Channel(param,channel)\n",
        "\n",
        "    ######################## DEAP PARAMETERS #######################################\n",
        "    # GA\n",
        "\n",
        "    ngen=10\n",
        "    pop_size=100\n",
        "\n",
        "    # GA\n",
        "    mu=0.5\n",
        "    sigma=0.25\n",
        "    indpb=0.5\n",
        "\n",
        "    tournsize=3\n",
        "\n",
        "    ########################## Regularisation #######################################\n",
        "    Reg=0\n",
        "\n",
        "    def reg(rDO):\n",
        "      # Should be large wen rDO is pure\n",
        "\n",
        "      # When pure, result= Reg\n",
        "      # When fully mixed,\n",
        "\n",
        "      trace=tf.cast(tf.linalg.trace(rDO.M @ rDO.M),tf.float64)\n",
        "\n",
        "      return (Reg*(trace-0.5)**2)\n",
        "\n",
        "    ################################# DEFINITIONS ##################################\n",
        "    # Define NN\n",
        "    NN_State=NN_builder(qubits=qubits,width=10,hiddenLayers=10,Activation='tanh')\n",
        "    #NN_State.set_weights(wta)#result[0][3])\n",
        "\n",
        "    # Define Channels\n",
        "    N=Channel\n",
        "    IN=QR_Channel_Builder(N,env_dim)\n",
        "\n",
        "    # GA Operators\n",
        "    fitness=gen_fitness(NN_State,qubits,N,IN,sys_qubits,env_qubits,QR=True,reg=reg)\n",
        "\n",
        "    SHAPES=get_Shapes(NN_State)\n",
        "\n",
        "    toolbox.register(\"individual\",gen_Individual,creator.Individual,SHAPES=get_Shapes(NN_State))\n",
        "    toolbox.register(\"population\",tools.initRepeat,list,toolbox.individual)\n",
        "\n",
        "    toolbox.register(\"evaluate\", fitness)\n",
        "    toolbox.register(\"mate\", cx2point)\n",
        "    toolbox.register(\"mutate\", mutGaussian, mu=0.5,sigma=0.25,indpb=0.5)\n",
        "    toolbox.register(\"select\", tools.selTournament, tournsize=tournsize)\n",
        "\n",
        "    toolbox.register(\"map\",futures.map)\n",
        "    ################################### MAIN #######################################\n",
        "\n",
        "    def main():\n",
        "\n",
        "      pop = toolbox.population(n=500)\n",
        "\n",
        "      def similar(a,b):\n",
        "        sim=True\n",
        "        for _ in range(len(a)):\n",
        "\n",
        "          if ~np.all(a[_]==b[_]):\n",
        "            sim=False\n",
        "        return sim\n",
        "\n",
        "      hof = tools.HallOfFame(1,similar=similar)\n",
        "      stats = tools.Statistics(lambda ind: ind.fitness.values)\n",
        "      stats.register(\"avg\", np.mean)\n",
        "      stats.register(\"std\", np.std)\n",
        "      stats.register(\"min\", np.min)\n",
        "      stats.register(\"max\", np.max)\n",
        "\n",
        "      pop, log = algorithms.eaSimple(pop, toolbox, cxpb=0.5, mutpb=0.5, ngen=30,\n",
        "                                    stats=stats, halloffame=hof, verbose=True)\n",
        "      best=hof.items[0]\n",
        "      print(best.fitness.values[0])\n",
        "\n",
        "      return best\n",
        "\n",
        "    if __name__ == \"__main__\":\n",
        "      wt=main()\n",
        "\n",
        "    return wt,wt.fitness.values[0]"
      ],
      "metadata": {
        "id": "cFvoeKknIPzy"
      },
      "execution_count": null,
      "outputs": []
    },
    {
      "cell_type": "code",
      "source": [
        "def Channel_action_multi(qubits,sysq,envq,channel,param):\n",
        "    ######################### Problem Parameters ###################################\n",
        "\n",
        "    dim=2**qubits\n",
        "    sys_dim=2**sysq\n",
        "    env_dim=2**envq\n",
        "\n",
        "\n",
        "    Channel=Q_Channel(param,channel)\n",
        "    ChannelM=NT_Channel_Builder(Channel,sysq)\n",
        "\n",
        "    ######################## DEAP PARAMETERS #######################################\n",
        "    # GA\n",
        "\n",
        "    ngen=10\n",
        "    pop_size=100\n",
        "\n",
        "    # GA\n",
        "    mu=0.5\n",
        "    sigma=0.25\n",
        "    indpb=0.5\n",
        "\n",
        "    tournsize=3\n",
        "\n",
        "    ########################## Regularisation #######################################\n",
        "    Reg=0\n",
        "\n",
        "    def reg(rDO):\n",
        "      # Should be large wen rDO is pure\n",
        "\n",
        "      # When pure, result= Reg\n",
        "      # When fully mixed,\n",
        "\n",
        "      trace=tf.cast(tf.linalg.trace(rDO.M @ rDO.M),tf.float64)\n",
        "\n",
        "      return (Reg*(trace-0.5)**2)\n",
        "\n",
        "    ################################# DEFINITIONS ##################################\n",
        "    # Define NN\n",
        "    NN_State=NN_builder(qubits=qubits,width=10,hiddenLayers=10,Activation='tanh')\n",
        "    #NN_State.set_weights(wtb)#result[0][4])\n",
        "\n",
        "    # Define Channels\n",
        "    N=ChannelM\n",
        "    IN=QR_Channel_Builder(N,env_dim)\n",
        "\n",
        "    # GA Operators\n",
        "    fitness=gen_fitness(NN_State,qubits,N,IN,sysq,envq,QR=True,reg=reg)\n",
        "\n",
        "    SHAPES=get_Shapes(NN_State)\n",
        "\n",
        "    toolbox.register(\"individual\",gen_Individual,creator.Individual,SHAPES=get_Shapes(NN_State))\n",
        "    toolbox.register(\"population\",tools.initRepeat,list,toolbox.individual)\n",
        "\n",
        "    toolbox.register(\"evaluate\", fitness)\n",
        "    toolbox.register(\"mate\", cx2point)\n",
        "    toolbox.register(\"mutate\", mutGaussian, mu=0.5,sigma=0.25,indpb=0.5)\n",
        "    toolbox.register(\"select\", tools.selTournament, tournsize=tournsize)\n",
        "\n",
        "    toolbox.register(\"map\",futures.map)\n",
        "    ################################### MAIN #######################################\n",
        "\n",
        "    def main():\n",
        "\n",
        "      pop = toolbox.population(n=500)\n",
        "\n",
        "      def similar(a,b):\n",
        "        sim=True\n",
        "        for _ in range(len(a)):\n",
        "\n",
        "          if ~np.all(a[_]==b[_]):\n",
        "            sim=False\n",
        "        return sim\n",
        "\n",
        "      hof = tools.HallOfFame(1,similar=similar)\n",
        "      stats = tools.Statistics(lambda ind: ind.fitness.values)\n",
        "      stats.register(\"avg\", np.mean)\n",
        "      stats.register(\"std\", np.std)\n",
        "      stats.register(\"min\", np.min)\n",
        "      stats.register(\"max\", np.max)\n",
        "\n",
        "      pop, log = algorithms.eaSimple(pop, toolbox, cxpb=0.5, mutpb=0.5, ngen=30,\n",
        "                                    stats=stats, halloffame=hof, verbose=True)\n",
        "      best=hof.items[0]\n",
        "      print(best.fitness.values[0])\n",
        "\n",
        "      return best\n",
        "\n",
        "    if __name__ == \"__main__\":\n",
        "      wt=main()\n",
        "\n",
        "    return wt,wt.fitness.values[0]"
      ],
      "metadata": {
        "id": "BpI9j1OkIPzz"
      },
      "execution_count": null,
      "outputs": []
    },
    {
      "cell_type": "code",
      "source": [
        "file=open('Best.txt','a')\n",
        "file.write('p1    p2    p3  Best CI\\n')\n",
        "\n",
        "def superadditivityfn(para):\n",
        "  wt1,ci1=Channel_action_single(PauliChannel_Kraus,para)\n",
        "  wt2,ci2=Channel_action_multi(4,2,2,PauliChannel_Kraus,para)\n",
        "  return ci2*0.5-ci1,ci1,ci2,wt1,wt2\n",
        "\n",
        "if __name__ == \"__main__\":\n",
        "    with concurrent.futures.ProcessPoolExecutor(8) as executor:\n",
        "        start_time = time.perf_counter()\n",
        "\n",
        "        para = [[0.225688,0.00801196,0.0263041],[0.225,0.008,0.027],[0.225,0.009,0.026],[0.226,0.008,0.026],[0.225,0.009,0.027],[0.226,0.009,0.026],[0.226,0.008,0.027],[0.226,0.009,0.027]]\n",
        "        result = list(executor.map(superadditivityfn, para))\n",
        "        str=\"{p0:.2f} {p1:.2f} {p2:.2f} {ci1:=.4f} {ci2:=.4f}\\n\"\n",
        "        print(result[0][0])\n",
        "\n",
        "        for i in np.arange(0,len(para)-1,1):\n",
        "          if -1*(result[i][0])>0:\n",
        "            file.write(str.format(p0=para[i][0],p1=para[i][1],p2=para[i][2],ci1=-result[i][1],ci2=-result[i][2]))\n",
        "\n",
        "#        if -1*(result[0][0])>0:\n",
        "#          file.write(str.format(p0=para[0][0],p1=para[0][1],p2=para[2],ci1=-result[0][1],ci2=-result[0][2]))\n",
        "\n",
        "        finish_time = time.perf_counter()\n",
        "    print(f\"Program finished in {finish_time-start_time} seconds\")\n",
        "\n",
        "file.close()"
      ],
      "metadata": {
        "colab": {
          "base_uri": "https://localhost:8080/",
          "height": 1000
        },
        "id": "3d5pmzCfrx5l",
        "outputId": "29751aeb-f141-42a0-e9cd-50696f29fe87"
      },
      "execution_count": null,
      "outputs": [
        {
          "output_type": "stream",
          "name": "stderr",
          "text": [
            "/usr/local/lib/python3.7/dist-packages/scoop/fallbacks.py:46: RuntimeWarning: SCOOP was not started properly.\n",
            "Be sure to start your program with the '-m scoop' parameter. You can find further information in the documentation.\n",
            "Your map call has been replaced by the builtin serial Python map().\n",
            "  RuntimeWarning\n",
            "/usr/local/lib/python3.7/dist-packages/scoop/fallbacks.py:46: RuntimeWarning: SCOOP was not started properly.\n",
            "Be sure to start your program with the '-m scoop' parameter. You can find further information in the documentation.\n",
            "Your map call has been replaced by the builtin serial Python map().\n",
            "  RuntimeWarning\n",
            "/usr/local/lib/python3.7/dist-packages/scoop/fallbacks.py:46: RuntimeWarning: SCOOP was not started properly.\n",
            "Be sure to start your program with the '-m scoop' parameter. You can find further information in the documentation.\n",
            "Your map call has been replaced by the builtin serial Python map().\n",
            "  RuntimeWarning\n",
            "/usr/local/lib/python3.7/dist-packages/scoop/fallbacks.py:46: RuntimeWarning: SCOOP was not started properly.\n",
            "Be sure to start your program with the '-m scoop' parameter. You can find further information in the documentation.\n",
            "Your map call has been replaced by the builtin serial Python map().\n",
            "  RuntimeWarning\n",
            "/usr/local/lib/python3.7/dist-packages/scoop/fallbacks.py:46: RuntimeWarning: SCOOP was not started properly.\n",
            "Be sure to start your program with the '-m scoop' parameter. You can find further information in the documentation.\n",
            "Your map call has been replaced by the builtin serial Python map().\n",
            "  RuntimeWarning\n",
            "/usr/local/lib/python3.7/dist-packages/scoop/fallbacks.py:46: RuntimeWarning: SCOOP was not started properly.\n",
            "Be sure to start your program with the '-m scoop' parameter. You can find further information in the documentation.\n",
            "Your map call has been replaced by the builtin serial Python map().\n",
            "  RuntimeWarning\n",
            "/usr/local/lib/python3.7/dist-packages/scoop/fallbacks.py:46: RuntimeWarning: SCOOP was not started properly.\n",
            "Be sure to start your program with the '-m scoop' parameter. You can find further information in the documentation.\n",
            "Your map call has been replaced by the builtin serial Python map().\n",
            "  RuntimeWarning\n",
            "/usr/local/lib/python3.7/dist-packages/scoop/fallbacks.py:46: RuntimeWarning: SCOOP was not started properly.\n",
            "Be sure to start your program with the '-m scoop' parameter. You can find further information in the documentation.\n",
            "Your map call has been replaced by the builtin serial Python map().\n",
            "  RuntimeWarning\n"
          ]
        },
        {
          "output_type": "stream",
          "name": "stdout",
          "text": [
            "gen\tnevals\tavg       \tstd       \tmin        \tmax      \n",
            "0  \t500   \t0.00952811\t0.00932897\t2.14978e-08\t0.0316732\n",
            "gen\tnevals\tavg       \tstd      \tmin         \tmax      \n",
            "0  \t500   \t0.00894548\t0.0087954\t-0.000993802\t0.0299516\n",
            "gen\tnevals\tavg      \tstd      \tmin        \tmax      \n",
            "0  \t500   \t0.0102955\t0.0101291\t2.14978e-08\t0.0339486\n",
            "gen\tnevals\tavg       \tstd       \tmin        \tmax      \n",
            "0  \t500   \t0.00971454\t0.00950957\t2.14978e-08\t0.0322204\n",
            "gen\tnevals\tavg      \tstd       \tmin        \tmax      \n",
            "0  \t500   \t0.0090754\t0.00891021\t4.29957e-08\t0.0303421gen\tnevals\tavg       \tstd       \tmin        \tmax      \n",
            "0  \t500   \t0.00934338\t0.00915856\t2.14978e-08\t0.0311478\n",
            "\n",
            "gen\tnevals\tavg      \tstd       \tmin        \tmax     \n",
            "0  \t500   \t0.0101092\t0.00992803\t2.14978e-08\t0.033402\n",
            "gen\tnevals\tavg       \tstd       \tmin        \tmax     \n",
            "0  \t500   \t0.00952982\t0.00933146\t2.14978e-08\t0.031695\n",
            "1  \t366   \t0.00400061\t0.00730557\t0          \t0.0315151\n",
            "1  \t367   \t0.00379543\t0.00686999\t0          \t0.0308229\n",
            "1  \t374   \t0.00407675\t0.00713668\t0          \t0.0299975\n",
            "1  \t374   \t0.00445101\t0.00807689\t0          \t0.0335067\n",
            "1  \t370   \t0.00463138\t0.00808803\t0          \t0.033231\n",
            "1  \t381   \t0.00351076\t0.00664067\t-0.00100868 \t0.0297152\n",
            "1  \t381   \t0.00382793\t0.00679351\t0          \t0.0294521\n",
            "1  \t385   \t0.00385085\t0.00688305\t0          \t0.029547 \n"
          ]
        },
        {
          "output_type": "error",
          "ename": "KeyboardInterrupt",
          "evalue": "ignored",
          "traceback": [
            "\u001b[0;31m---------------------------------------------------------------------------\u001b[0m",
            "\u001b[0;31mKeyboardInterrupt\u001b[0m                         Traceback (most recent call last)",
            "\u001b[0;32m<ipython-input-24-557f0d57bcbd>\u001b[0m in \u001b[0;36m<module>\u001b[0;34m()\u001b[0m\n\u001b[1;32m     12\u001b[0m \u001b[0;34m\u001b[0m\u001b[0m\n\u001b[1;32m     13\u001b[0m         \u001b[0mpara\u001b[0m \u001b[0;34m=\u001b[0m \u001b[0;34m[\u001b[0m\u001b[0;34m[\u001b[0m\u001b[0;36m0.225688\u001b[0m\u001b[0;34m,\u001b[0m\u001b[0;36m0.00801196\u001b[0m\u001b[0;34m,\u001b[0m\u001b[0;36m0.0263041\u001b[0m\u001b[0;34m]\u001b[0m\u001b[0;34m,\u001b[0m\u001b[0;34m[\u001b[0m\u001b[0;36m0.225\u001b[0m\u001b[0;34m,\u001b[0m\u001b[0;36m0.008\u001b[0m\u001b[0;34m,\u001b[0m\u001b[0;36m0.027\u001b[0m\u001b[0;34m]\u001b[0m\u001b[0;34m,\u001b[0m\u001b[0;34m[\u001b[0m\u001b[0;36m0.225\u001b[0m\u001b[0;34m,\u001b[0m\u001b[0;36m0.009\u001b[0m\u001b[0;34m,\u001b[0m\u001b[0;36m0.026\u001b[0m\u001b[0;34m]\u001b[0m\u001b[0;34m,\u001b[0m\u001b[0;34m[\u001b[0m\u001b[0;36m0.226\u001b[0m\u001b[0;34m,\u001b[0m\u001b[0;36m0.008\u001b[0m\u001b[0;34m,\u001b[0m\u001b[0;36m0.026\u001b[0m\u001b[0;34m]\u001b[0m\u001b[0;34m,\u001b[0m\u001b[0;34m[\u001b[0m\u001b[0;36m0.225\u001b[0m\u001b[0;34m,\u001b[0m\u001b[0;36m0.009\u001b[0m\u001b[0;34m,\u001b[0m\u001b[0;36m0.027\u001b[0m\u001b[0;34m]\u001b[0m\u001b[0;34m,\u001b[0m\u001b[0;34m[\u001b[0m\u001b[0;36m0.226\u001b[0m\u001b[0;34m,\u001b[0m\u001b[0;36m0.009\u001b[0m\u001b[0;34m,\u001b[0m\u001b[0;36m0.026\u001b[0m\u001b[0;34m]\u001b[0m\u001b[0;34m,\u001b[0m\u001b[0;34m[\u001b[0m\u001b[0;36m0.226\u001b[0m\u001b[0;34m,\u001b[0m\u001b[0;36m0.008\u001b[0m\u001b[0;34m,\u001b[0m\u001b[0;36m0.027\u001b[0m\u001b[0;34m]\u001b[0m\u001b[0;34m,\u001b[0m\u001b[0;34m[\u001b[0m\u001b[0;36m0.226\u001b[0m\u001b[0;34m,\u001b[0m\u001b[0;36m0.009\u001b[0m\u001b[0;34m,\u001b[0m\u001b[0;36m0.027\u001b[0m\u001b[0;34m]\u001b[0m\u001b[0;34m]\u001b[0m\u001b[0;34m\u001b[0m\u001b[0;34m\u001b[0m\u001b[0m\n\u001b[0;32m---> 14\u001b[0;31m         \u001b[0mresult\u001b[0m \u001b[0;34m=\u001b[0m \u001b[0mlist\u001b[0m\u001b[0;34m(\u001b[0m\u001b[0mexecutor\u001b[0m\u001b[0;34m.\u001b[0m\u001b[0mmap\u001b[0m\u001b[0;34m(\u001b[0m\u001b[0msuperadditivityfn\u001b[0m\u001b[0;34m,\u001b[0m \u001b[0mpara\u001b[0m\u001b[0;34m)\u001b[0m\u001b[0;34m)\u001b[0m\u001b[0;34m\u001b[0m\u001b[0;34m\u001b[0m\u001b[0m\n\u001b[0m\u001b[1;32m     15\u001b[0m         \u001b[0mstr\u001b[0m\u001b[0;34m=\u001b[0m\u001b[0;34m\"{p0:.2f} {p1:.2f} {p2:.2f} {ci1:=.4f} {ci2:=.4f}\\n\"\u001b[0m\u001b[0;34m\u001b[0m\u001b[0;34m\u001b[0m\u001b[0m\n\u001b[1;32m     16\u001b[0m         \u001b[0mprint\u001b[0m\u001b[0;34m(\u001b[0m\u001b[0mresult\u001b[0m\u001b[0;34m[\u001b[0m\u001b[0;36m0\u001b[0m\u001b[0;34m]\u001b[0m\u001b[0;34m[\u001b[0m\u001b[0;36m0\u001b[0m\u001b[0;34m]\u001b[0m\u001b[0;34m)\u001b[0m\u001b[0;34m\u001b[0m\u001b[0;34m\u001b[0m\u001b[0m\n",
            "\u001b[0;32m/usr/lib/python3.7/concurrent/futures/process.py\u001b[0m in \u001b[0;36m_chain_from_iterable_of_lists\u001b[0;34m(iterable)\u001b[0m\n\u001b[1;32m    481\u001b[0m     \u001b[0mcareful\u001b[0m \u001b[0;32mnot\u001b[0m \u001b[0mto\u001b[0m \u001b[0mkeep\u001b[0m \u001b[0mreferences\u001b[0m \u001b[0mto\u001b[0m \u001b[0myielded\u001b[0m \u001b[0mobjects\u001b[0m\u001b[0;34m.\u001b[0m\u001b[0;34m\u001b[0m\u001b[0;34m\u001b[0m\u001b[0m\n\u001b[1;32m    482\u001b[0m     \"\"\"\n\u001b[0;32m--> 483\u001b[0;31m     \u001b[0;32mfor\u001b[0m \u001b[0melement\u001b[0m \u001b[0;32min\u001b[0m \u001b[0miterable\u001b[0m\u001b[0;34m:\u001b[0m\u001b[0;34m\u001b[0m\u001b[0;34m\u001b[0m\u001b[0m\n\u001b[0m\u001b[1;32m    484\u001b[0m         \u001b[0melement\u001b[0m\u001b[0;34m.\u001b[0m\u001b[0mreverse\u001b[0m\u001b[0;34m(\u001b[0m\u001b[0;34m)\u001b[0m\u001b[0;34m\u001b[0m\u001b[0;34m\u001b[0m\u001b[0m\n\u001b[1;32m    485\u001b[0m         \u001b[0;32mwhile\u001b[0m \u001b[0melement\u001b[0m\u001b[0;34m:\u001b[0m\u001b[0;34m\u001b[0m\u001b[0;34m\u001b[0m\u001b[0m\n",
            "\u001b[0;32m/usr/lib/python3.7/concurrent/futures/_base.py\u001b[0m in \u001b[0;36mresult_iterator\u001b[0;34m()\u001b[0m\n\u001b[1;32m    596\u001b[0m                     \u001b[0;31m# Careful not to keep a reference to the popped future\u001b[0m\u001b[0;34m\u001b[0m\u001b[0;34m\u001b[0m\u001b[0;34m\u001b[0m\u001b[0m\n\u001b[1;32m    597\u001b[0m                     \u001b[0;32mif\u001b[0m \u001b[0mtimeout\u001b[0m \u001b[0;32mis\u001b[0m \u001b[0;32mNone\u001b[0m\u001b[0;34m:\u001b[0m\u001b[0;34m\u001b[0m\u001b[0;34m\u001b[0m\u001b[0m\n\u001b[0;32m--> 598\u001b[0;31m                         \u001b[0;32myield\u001b[0m \u001b[0mfs\u001b[0m\u001b[0;34m.\u001b[0m\u001b[0mpop\u001b[0m\u001b[0;34m(\u001b[0m\u001b[0;34m)\u001b[0m\u001b[0;34m.\u001b[0m\u001b[0mresult\u001b[0m\u001b[0;34m(\u001b[0m\u001b[0;34m)\u001b[0m\u001b[0;34m\u001b[0m\u001b[0;34m\u001b[0m\u001b[0m\n\u001b[0m\u001b[1;32m    599\u001b[0m                     \u001b[0;32melse\u001b[0m\u001b[0;34m:\u001b[0m\u001b[0;34m\u001b[0m\u001b[0;34m\u001b[0m\u001b[0m\n\u001b[1;32m    600\u001b[0m                         \u001b[0;32myield\u001b[0m \u001b[0mfs\u001b[0m\u001b[0;34m.\u001b[0m\u001b[0mpop\u001b[0m\u001b[0;34m(\u001b[0m\u001b[0;34m)\u001b[0m\u001b[0;34m.\u001b[0m\u001b[0mresult\u001b[0m\u001b[0;34m(\u001b[0m\u001b[0mend_time\u001b[0m \u001b[0;34m-\u001b[0m \u001b[0mtime\u001b[0m\u001b[0;34m.\u001b[0m\u001b[0mmonotonic\u001b[0m\u001b[0;34m(\u001b[0m\u001b[0;34m)\u001b[0m\u001b[0;34m)\u001b[0m\u001b[0;34m\u001b[0m\u001b[0;34m\u001b[0m\u001b[0m\n",
            "\u001b[0;32m/usr/lib/python3.7/concurrent/futures/_base.py\u001b[0m in \u001b[0;36mresult\u001b[0;34m(self, timeout)\u001b[0m\n\u001b[1;32m    428\u001b[0m                 \u001b[0;32mreturn\u001b[0m \u001b[0mself\u001b[0m\u001b[0;34m.\u001b[0m\u001b[0m__get_result\u001b[0m\u001b[0;34m(\u001b[0m\u001b[0;34m)\u001b[0m\u001b[0;34m\u001b[0m\u001b[0;34m\u001b[0m\u001b[0m\n\u001b[1;32m    429\u001b[0m \u001b[0;34m\u001b[0m\u001b[0m\n\u001b[0;32m--> 430\u001b[0;31m             \u001b[0mself\u001b[0m\u001b[0;34m.\u001b[0m\u001b[0m_condition\u001b[0m\u001b[0;34m.\u001b[0m\u001b[0mwait\u001b[0m\u001b[0;34m(\u001b[0m\u001b[0mtimeout\u001b[0m\u001b[0;34m)\u001b[0m\u001b[0;34m\u001b[0m\u001b[0;34m\u001b[0m\u001b[0m\n\u001b[0m\u001b[1;32m    431\u001b[0m \u001b[0;34m\u001b[0m\u001b[0m\n\u001b[1;32m    432\u001b[0m             \u001b[0;32mif\u001b[0m \u001b[0mself\u001b[0m\u001b[0;34m.\u001b[0m\u001b[0m_state\u001b[0m \u001b[0;32min\u001b[0m \u001b[0;34m[\u001b[0m\u001b[0mCANCELLED\u001b[0m\u001b[0;34m,\u001b[0m \u001b[0mCANCELLED_AND_NOTIFIED\u001b[0m\u001b[0;34m]\u001b[0m\u001b[0;34m:\u001b[0m\u001b[0;34m\u001b[0m\u001b[0;34m\u001b[0m\u001b[0m\n",
            "\u001b[0;32m/usr/lib/python3.7/threading.py\u001b[0m in \u001b[0;36mwait\u001b[0;34m(self, timeout)\u001b[0m\n\u001b[1;32m    294\u001b[0m         \u001b[0;32mtry\u001b[0m\u001b[0;34m:\u001b[0m    \u001b[0;31m# restore state no matter what (e.g., KeyboardInterrupt)\u001b[0m\u001b[0;34m\u001b[0m\u001b[0;34m\u001b[0m\u001b[0m\n\u001b[1;32m    295\u001b[0m             \u001b[0;32mif\u001b[0m \u001b[0mtimeout\u001b[0m \u001b[0;32mis\u001b[0m \u001b[0;32mNone\u001b[0m\u001b[0;34m:\u001b[0m\u001b[0;34m\u001b[0m\u001b[0;34m\u001b[0m\u001b[0m\n\u001b[0;32m--> 296\u001b[0;31m                 \u001b[0mwaiter\u001b[0m\u001b[0;34m.\u001b[0m\u001b[0macquire\u001b[0m\u001b[0;34m(\u001b[0m\u001b[0;34m)\u001b[0m\u001b[0;34m\u001b[0m\u001b[0;34m\u001b[0m\u001b[0m\n\u001b[0m\u001b[1;32m    297\u001b[0m                 \u001b[0mgotit\u001b[0m \u001b[0;34m=\u001b[0m \u001b[0;32mTrue\u001b[0m\u001b[0;34m\u001b[0m\u001b[0;34m\u001b[0m\u001b[0m\n\u001b[1;32m    298\u001b[0m             \u001b[0;32melse\u001b[0m\u001b[0;34m:\u001b[0m\u001b[0;34m\u001b[0m\u001b[0;34m\u001b[0m\u001b[0m\n",
            "\u001b[0;31mKeyboardInterrupt\u001b[0m: "
          ]
        }
      ]
    },
    {
      "cell_type": "code",
      "source": [
        "for l in np.arange(0,7,1):\n",
        "  print(result[l][0],'\\n')"
      ],
      "metadata": {
        "colab": {
          "base_uri": "https://localhost:8080/",
          "height": 188
        },
        "id": "U-5zkPm8XuN4",
        "outputId": "3b24e01e-c8bb-4eed-edf1-42e0aae33cef"
      },
      "execution_count": null,
      "outputs": [
        {
          "output_type": "error",
          "ename": "NameError",
          "evalue": "ignored",
          "traceback": [
            "\u001b[0;31m---------------------------------------------------------------------------\u001b[0m",
            "\u001b[0;31mNameError\u001b[0m                                 Traceback (most recent call last)",
            "\u001b[0;32m<ipython-input-25-902e41f00b48>\u001b[0m in \u001b[0;36m<module>\u001b[0;34m()\u001b[0m\n\u001b[1;32m      1\u001b[0m \u001b[0;32mfor\u001b[0m \u001b[0ml\u001b[0m \u001b[0;32min\u001b[0m \u001b[0mnp\u001b[0m\u001b[0;34m.\u001b[0m\u001b[0marange\u001b[0m\u001b[0;34m(\u001b[0m\u001b[0;36m0\u001b[0m\u001b[0;34m,\u001b[0m\u001b[0;36m7\u001b[0m\u001b[0;34m,\u001b[0m\u001b[0;36m1\u001b[0m\u001b[0;34m)\u001b[0m\u001b[0;34m:\u001b[0m\u001b[0;34m\u001b[0m\u001b[0;34m\u001b[0m\u001b[0m\n\u001b[0;32m----> 2\u001b[0;31m   \u001b[0mprint\u001b[0m\u001b[0;34m(\u001b[0m\u001b[0mresult\u001b[0m\u001b[0;34m[\u001b[0m\u001b[0ml\u001b[0m\u001b[0;34m]\u001b[0m\u001b[0;34m[\u001b[0m\u001b[0;36m0\u001b[0m\u001b[0;34m]\u001b[0m\u001b[0;34m,\u001b[0m\u001b[0;34m'\\n'\u001b[0m\u001b[0;34m)\u001b[0m\u001b[0;34m\u001b[0m\u001b[0;34m\u001b[0m\u001b[0m\n\u001b[0m",
            "\u001b[0;31mNameError\u001b[0m: name 'result' is not defined"
          ]
        }
      ]
    }
  ]
}